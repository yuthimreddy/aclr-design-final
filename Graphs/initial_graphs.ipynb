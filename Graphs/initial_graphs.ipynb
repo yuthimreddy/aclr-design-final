{
 "cells": [
  {
   "cell_type": "markdown",
   "metadata": {},
   "source": [
    "# **Initial Graphs - ACLR Final Project**\n",
    "#### Group: Elaine, Rachel, Yuthi"
   ]
  },
  {
   "cell_type": "markdown",
   "metadata": {},
   "source": [
    "**Graph 1:**\n",
    "\n",
    "Planning on creating a scatterplot showing how both physical and mental readiness affect each other and the individual's overall confidence in returning to play."
   ]
  },
  {
   "cell_type": "code",
   "execution_count": 8,
   "metadata": {},
   "outputs": [],
   "source": [
    "# Environment Setup:\n",
    "import pandas as pd\n",
    "import numpy as np\n",
    "import matplotlib.pyplot as plt\n",
    "import matplotlib as plt\n",
    "import seaborn as sns"
   ]
  },
  {
   "cell_type": "code",
   "execution_count": 9,
   "metadata": {},
   "outputs": [
    {
     "data": {
      "text/html": [
       "<div>\n",
       "<style scoped>\n",
       "    .dataframe tbody tr th:only-of-type {\n",
       "        vertical-align: middle;\n",
       "    }\n",
       "\n",
       "    .dataframe tbody tr th {\n",
       "        vertical-align: top;\n",
       "    }\n",
       "\n",
       "    .dataframe thead th {\n",
       "        text-align: right;\n",
       "    }\n",
       "</style>\n",
       "<table border=\"1\" class=\"dataframe\">\n",
       "  <thead>\n",
       "    <tr style=\"text-align: right;\">\n",
       "      <th></th>\n",
       "      <th>sex_dashboard</th>\n",
       "      <th>graft_dashboard2</th>\n",
       "      <th>reinjury</th>\n",
       "      <th>age</th>\n",
       "      <th>height_m</th>\n",
       "      <th>mass_kg</th>\n",
       "      <th>bmi</th>\n",
       "      <th>ikdc</th>\n",
       "      <th>acl_rsi</th>\n",
       "      <th>tegner_pre</th>\n",
       "      <th>tegner_now</th>\n",
       "      <th>lsi_ext_isok_60</th>\n",
       "      <th>lsi_flex_isok_60</th>\n",
       "    </tr>\n",
       "  </thead>\n",
       "  <tbody>\n",
       "    <tr>\n",
       "      <th>0</th>\n",
       "      <td>Male</td>\n",
       "      <td>Other</td>\n",
       "      <td>NaN</td>\n",
       "      <td>NaN</td>\n",
       "      <td>NaN</td>\n",
       "      <td>NaN</td>\n",
       "      <td>NaN</td>\n",
       "      <td>NaN</td>\n",
       "      <td>NaN</td>\n",
       "      <td>NaN</td>\n",
       "      <td>NaN</td>\n",
       "      <td>NaN</td>\n",
       "      <td>NaN</td>\n",
       "    </tr>\n",
       "    <tr>\n",
       "      <th>1</th>\n",
       "      <td>NaN</td>\n",
       "      <td>NaN</td>\n",
       "      <td>No</td>\n",
       "      <td>21.7</td>\n",
       "      <td>1.9</td>\n",
       "      <td>87.4</td>\n",
       "      <td>24.210526</td>\n",
       "      <td>95.4</td>\n",
       "      <td>87.5</td>\n",
       "      <td>9.0</td>\n",
       "      <td>9.0</td>\n",
       "      <td>87.86</td>\n",
       "      <td>103.32</td>\n",
       "    </tr>\n",
       "    <tr>\n",
       "      <th>2</th>\n",
       "      <td>NaN</td>\n",
       "      <td>NaN</td>\n",
       "      <td>NaN</td>\n",
       "      <td>NaN</td>\n",
       "      <td>NaN</td>\n",
       "      <td>NaN</td>\n",
       "      <td>NaN</td>\n",
       "      <td>NaN</td>\n",
       "      <td>NaN</td>\n",
       "      <td>NaN</td>\n",
       "      <td>NaN</td>\n",
       "      <td>NaN</td>\n",
       "      <td>NaN</td>\n",
       "    </tr>\n",
       "    <tr>\n",
       "      <th>3</th>\n",
       "      <td>Female</td>\n",
       "      <td>HS autograft</td>\n",
       "      <td>NaN</td>\n",
       "      <td>NaN</td>\n",
       "      <td>NaN</td>\n",
       "      <td>NaN</td>\n",
       "      <td>NaN</td>\n",
       "      <td>NaN</td>\n",
       "      <td>NaN</td>\n",
       "      <td>NaN</td>\n",
       "      <td>NaN</td>\n",
       "      <td>NaN</td>\n",
       "      <td>NaN</td>\n",
       "    </tr>\n",
       "    <tr>\n",
       "      <th>4</th>\n",
       "      <td>NaN</td>\n",
       "      <td>NaN</td>\n",
       "      <td>No</td>\n",
       "      <td>14.5</td>\n",
       "      <td>1.6</td>\n",
       "      <td>72.2</td>\n",
       "      <td>28.203125</td>\n",
       "      <td>79.3</td>\n",
       "      <td>8.3</td>\n",
       "      <td>8.0</td>\n",
       "      <td>5.0</td>\n",
       "      <td>45.00</td>\n",
       "      <td>72.98</td>\n",
       "    </tr>\n",
       "  </tbody>\n",
       "</table>\n",
       "</div>"
      ],
      "text/plain": [
       "  sex_dashboard graft_dashboard2 reinjury   age  height_m  mass_kg        bmi  \\\n",
       "0          Male            Other      NaN   NaN       NaN      NaN        NaN   \n",
       "1           NaN              NaN       No  21.7       1.9     87.4  24.210526   \n",
       "2           NaN              NaN      NaN   NaN       NaN      NaN        NaN   \n",
       "3        Female     HS autograft      NaN   NaN       NaN      NaN        NaN   \n",
       "4           NaN              NaN       No  14.5       1.6     72.2  28.203125   \n",
       "\n",
       "   ikdc  acl_rsi  tegner_pre  tegner_now  lsi_ext_isok_60  lsi_flex_isok_60  \n",
       "0   NaN      NaN         NaN         NaN              NaN               NaN  \n",
       "1  95.4     87.5         9.0         9.0            87.86            103.32  \n",
       "2   NaN      NaN         NaN         NaN              NaN               NaN  \n",
       "3   NaN      NaN         NaN         NaN              NaN               NaN  \n",
       "4  79.3      8.3         8.0         5.0            45.00             72.98  "
      ]
     },
     "execution_count": 9,
     "metadata": {},
     "output_type": "execute_result"
    }
   ],
   "source": [
    "# importing data as dataframe:\n",
    "df = pd.read_csv('aclr data(in).csv')\n",
    "\n",
    "# filtering df to be consistent with relevant variables of interest:\n",
    "df = df[['sex_dashboard', 'graft_dashboard2', 'reinjury', 'age', 'height_m', 'mass_kg', 'bmi', 'ikdc', 'acl_rsi', 'tegner_pre', 'tegner_now', 'lsi_ext_isok_60', 'lsi_flex_isok_60']]\n",
    "# previewing df with relevant columns:\n",
    "df.head()"
   ]
  },
  {
   "cell_type": "code",
   "execution_count": 4,
   "metadata": {},
   "outputs": [
    {
     "name": "stdout",
     "output_type": "stream",
     "text": [
      "  sex_dashboard graft_dashboard2 reinjury        age  height_m    mass_kg  \\\n",
      "0          Male            Other      NaN  20.184761  1.725412  74.343033   \n",
      "1           NaN              NaN       No  21.700000  1.900000  87.400000   \n",
      "2           NaN              NaN      NaN  20.184761  1.725412  74.343033   \n",
      "3        Female     HS autograft      NaN  20.184761  1.725412  74.343033   \n",
      "4           NaN              NaN       No  14.500000  1.600000  72.200000   \n",
      "\n",
      "         bmi       ikdc    acl_rsi  tegner_pre  tegner_now  lsi_ext_isok_60  \\\n",
      "0  25.201579  78.457377  64.929381    8.363162    5.838621        73.194083   \n",
      "1  24.210526  95.400000  87.500000    9.000000    9.000000        87.860000   \n",
      "2  25.201579  78.457377  64.929381    8.363162    5.838621        73.194083   \n",
      "3  25.201579  78.457377  64.929381    8.363162    5.838621        73.194083   \n",
      "4  28.203125  79.300000   8.300000    8.000000    5.000000        45.000000   \n",
      "\n",
      "   lsi_flex_isok_60  \n",
      "0         89.728019  \n",
      "1        103.320000  \n",
      "2         89.728019  \n",
      "3         89.728019  \n",
      "4         72.980000  \n"
     ]
    }
   ],
   "source": [
    "# Filtering for numeric columns:\n",
    "numeric_columns = df.select_dtypes(include=['int', 'float']).columns\n",
    "\n",
    "# imputing missing values with the mean for each respective column\n",
    "mean_values = df[numeric_columns].mean()\n",
    "m_df = df.fillna(mean_values)\n",
    "\n",
    "# previewing the imputed dataframe:\n",
    "print(m_df.head(5))"
   ]
  },
  {
   "cell_type": "code",
   "execution_count": null,
   "metadata": {},
   "outputs": [
    {
     "ename": "TypeError",
     "evalue": "'module' object is not callable",
     "output_type": "error",
     "traceback": [
      "\u001b[1;31m---------------------------------------------------------------------------\u001b[0m",
      "\u001b[1;31mTypeError\u001b[0m                                 Traceback (most recent call last)",
      "Cell \u001b[1;32mIn[6], line 8\u001b[0m\n\u001b[0;32m      5\u001b[0m plt\u001b[38;5;241m.\u001b[39mrcParams[\u001b[38;5;124m\"\u001b[39m\u001b[38;5;124mfont.family\u001b[39m\u001b[38;5;124m\"\u001b[39m] \u001b[38;5;241m=\u001b[39m \u001b[38;5;124m\"\u001b[39m\u001b[38;5;124mTimes New Roman\u001b[39m\u001b[38;5;124m\"\u001b[39m\n\u001b[0;32m      7\u001b[0m \u001b[38;5;66;03m# creating scatterplot with a regression line: \u001b[39;00m\n\u001b[1;32m----> 8\u001b[0m \u001b[43mplt\u001b[49m\u001b[38;5;241;43m.\u001b[39;49m\u001b[43mfigure\u001b[49m\u001b[43m(\u001b[49m\u001b[43mfigsize\u001b[49m\u001b[38;5;241;43m=\u001b[39;49m\u001b[43m(\u001b[49m\u001b[38;5;241;43m10\u001b[39;49m\u001b[43m,\u001b[49m\u001b[43m \u001b[49m\u001b[38;5;241;43m6\u001b[39;49m\u001b[43m)\u001b[49m\u001b[43m)\u001b[49m\n\u001b[0;32m      9\u001b[0m sns\u001b[38;5;241m.\u001b[39mregplot(data\u001b[38;5;241m=\u001b[39mdf_clean, x\u001b[38;5;241m=\u001b[39m\u001b[38;5;124m'\u001b[39m\u001b[38;5;124mikdc\u001b[39m\u001b[38;5;124m'\u001b[39m, y\u001b[38;5;241m=\u001b[39m\u001b[38;5;124m'\u001b[39m\u001b[38;5;124macl_rsi\u001b[39m\u001b[38;5;124m'\u001b[39m, color\u001b[38;5;241m=\u001b[39m\u001b[38;5;124m'\u001b[39m\u001b[38;5;124m#4C82A4\u001b[39m\u001b[38;5;124m'\u001b[39m,\n\u001b[0;32m     10\u001b[0m             scatter_kws\u001b[38;5;241m=\u001b[39m{\u001b[38;5;124m'\u001b[39m\u001b[38;5;124ms\u001b[39m\u001b[38;5;124m'\u001b[39m: \u001b[38;5;241m20\u001b[39m, \u001b[38;5;124m'\u001b[39m\u001b[38;5;124malpha\u001b[39m\u001b[38;5;124m'\u001b[39m: \u001b[38;5;241m0.7\u001b[39m}, \u001b[38;5;66;03m# reducing size of scatter plots to avoid overlap\u001b[39;00m\n\u001b[0;32m     11\u001b[0m            line_kws\u001b[38;5;241m=\u001b[39m{\u001b[38;5;124m'\u001b[39m\u001b[38;5;124mcolor\u001b[39m\u001b[38;5;124m'\u001b[39m: \u001b[38;5;124m'\u001b[39m\u001b[38;5;124m#E23639\u001b[39m\u001b[38;5;124m'\u001b[39m})\n\u001b[0;32m     13\u001b[0m \u001b[38;5;66;03m# == SCAFFOLDING == \u001b[39;00m\n\u001b[0;32m     14\u001b[0m \n\u001b[0;32m     15\u001b[0m \u001b[38;5;66;03m# setting title:\u001b[39;00m\n",
      "\u001b[1;31mTypeError\u001b[0m: 'module' object is not callable"
     ]
    }
   ],
   "source": [
    "# data for graphing (getting rid of NaN values):\n",
    "df_clean = df[['ikdc', 'acl_rsi']].dropna()\n",
    "\n",
    "# setting fonts for the figures:\n",
    "matplotlib.rcParams[\"font.family\"] = \"Times New Roman\"\n",
    "\n",
    "# creating scatterplot with a regression line: \n",
    "plt.figure(figsize=(10, 6))\n",
    "sns.regplot(data=df_clean, x='ikdc', y='acl_rsi', color='#4C82A4',\n",
    "            scatter_kws={'s': 20, 'alpha': 0.7}, # reducing size of scatter plots to avoid overlap\n",
    "           line_kws={'color': '#E23639'})\n",
    "\n",
    "# == SCAFFOLDING == \n",
    "\n",
    "# setting title:\n",
    "plt.title('Physical and Mental Recovery Go Hand in Hand', weight = 'bold', fontsize = 16, x = 0.27)\n",
    "# setting x-axis and y-axis labels:\n",
    "plt.xlabel('IKDC (Knee Function)', weight = 'bold', fontsize = 12)\n",
    "plt.ylabel('ACL_RSI (Mental Readiness)', weight = 'bold', fontsize = 12)\n",
    "\n",
    "# extra formatting (removing spines for cleaner look):\n",
    "plt.gca().spines['top'].set_visible(False)\n",
    "plt.gca().spines['right'].set_visible(False)\n",
    "plt.gca().spines['left'].set_visible(False)\n",
    "\n",
    "\n",
    "plt.show()"
   ]
  },
  {
   "cell_type": "code",
   "execution_count": null,
   "metadata": {},
   "outputs": [],
   "source": []
  },
  {
   "cell_type": "markdown",
   "metadata": {},
   "source": [
    "**Graph 2:**\n",
    "\n",
    "Planning on creating a scatterplot showing how both physical and mental readiness affect each other and the individual's overall confidence in returning to play."
   ]
  },
  {
   "cell_type": "code",
   "execution_count": 10,
   "metadata": {},
   "outputs": [
    {
     "name": "stdout",
     "output_type": "stream",
     "text": [
      "   graft_dashboard2 reinjury\n",
      "0             Other       No\n",
      "3      HS autograft       No\n",
      "8      HS autograft      NaN\n",
      "10     HS autograft       No\n",
      "15     HS autograft       No\n"
     ]
    },
    {
     "name": "stderr",
     "output_type": "stream",
     "text": [
      "C:\\Users\\elain\\AppData\\Local\\Temp\\ipykernel_35000\\1183072511.py:21: FutureWarning: The default of observed=False is deprecated and will be changed to True in a future version of pandas. Pass observed=False to retain current behavior or observed=True to adopt the future default and silence this warning.\n",
      "  total_per_graft = counts.groupby('graft_dashboard2')['count'].transform('sum') #get sums\n"
     ]
    },
    {
     "ename": "TypeError",
     "evalue": "'module' object is not callable",
     "output_type": "error",
     "traceback": [
      "\u001b[1;31m---------------------------------------------------------------------------\u001b[0m",
      "\u001b[1;31mTypeError\u001b[0m                                 Traceback (most recent call last)",
      "Cell \u001b[1;32mIn[10], line 24\u001b[0m\n\u001b[0;32m     21\u001b[0m total_per_graft \u001b[38;5;241m=\u001b[39m counts\u001b[38;5;241m.\u001b[39mgroupby(\u001b[38;5;124m'\u001b[39m\u001b[38;5;124mgraft_dashboard2\u001b[39m\u001b[38;5;124m'\u001b[39m)[\u001b[38;5;124m'\u001b[39m\u001b[38;5;124mcount\u001b[39m\u001b[38;5;124m'\u001b[39m]\u001b[38;5;241m.\u001b[39mtransform(\u001b[38;5;124m'\u001b[39m\u001b[38;5;124msum\u001b[39m\u001b[38;5;124m'\u001b[39m) \u001b[38;5;66;03m#get sums\u001b[39;00m\n\u001b[0;32m     22\u001b[0m counts[\u001b[38;5;124m'\u001b[39m\u001b[38;5;124mproportion\u001b[39m\u001b[38;5;124m'\u001b[39m] \u001b[38;5;241m=\u001b[39m counts[\u001b[38;5;124m'\u001b[39m\u001b[38;5;124mcount\u001b[39m\u001b[38;5;124m'\u001b[39m] \u001b[38;5;241m/\u001b[39m total_per_graft \u001b[38;5;66;03m#calculate proportions\u001b[39;00m\n\u001b[1;32m---> 24\u001b[0m \u001b[43mplt\u001b[49m\u001b[38;5;241;43m.\u001b[39;49m\u001b[43mfigure\u001b[49m\u001b[43m(\u001b[49m\u001b[43mfigsize\u001b[49m\u001b[38;5;241;43m=\u001b[39;49m\u001b[43m(\u001b[49m\u001b[38;5;241;43m10\u001b[39;49m\u001b[43m,\u001b[49m\u001b[43m \u001b[49m\u001b[38;5;241;43m6\u001b[39;49m\u001b[43m)\u001b[49m\u001b[43m)\u001b[49m\n\u001b[0;32m     25\u001b[0m sns\u001b[38;5;241m.\u001b[39mbarplot( \u001b[38;5;66;03m#make grouped barplot\u001b[39;00m\n\u001b[0;32m     26\u001b[0m     data\u001b[38;5;241m=\u001b[39mcounts,\n\u001b[0;32m     27\u001b[0m     x\u001b[38;5;241m=\u001b[39m\u001b[38;5;124m'\u001b[39m\u001b[38;5;124mgraft_dashboard2\u001b[39m\u001b[38;5;124m'\u001b[39m,\n\u001b[1;32m   (...)\u001b[0m\n\u001b[0;32m     30\u001b[0m     palette\u001b[38;5;241m=\u001b[39m\u001b[38;5;124m'\u001b[39m\u001b[38;5;124mmako\u001b[39m\u001b[38;5;124m'\u001b[39m\n\u001b[0;32m     31\u001b[0m )\n\u001b[0;32m     32\u001b[0m plt\u001b[38;5;241m.\u001b[39mxlabel(\u001b[38;5;124m'\u001b[39m\u001b[38;5;124mGraft Type\u001b[39m\u001b[38;5;124m'\u001b[39m)\n",
      "\u001b[1;31mTypeError\u001b[0m: 'module' object is not callable"
     ]
    }
   ],
   "source": [
    "df = df[['sex_dashboard', 'graft_dashboard2', 'reinjury', 'age', 'height_m', 'mass_kg', 'bmi', 'ikdc', 'acl_rsi']]\n",
    "\n",
    "df = df[df['reinjury'].str.upper() != 'BLANK'] #get rid of all blank in reinjury\n",
    "df['reinjury_shifted'] = df['reinjury'].shift(-1) #align reinjury with other values\n",
    "df_cleaned = df[df['graft_dashboard2'].notna()][['graft_dashboard2', 'reinjury_shifted']] #get rid of na\n",
    "df_cleaned.columns = ['graft_dashboard2', 'reinjury'] #rename\n",
    "print(df_cleaned.head())\n",
    "\n",
    "counts = ( #get counts of graft and reinjury\n",
    "    df_cleaned.groupby(['graft_dashboard2', 'reinjury'])\n",
    "    .size()\n",
    "    .reset_index(name='count')\n",
    ")\n",
    "\n",
    "graft_order = ['HS autograft', 'BTB autograft', 'QT autograft', 'Allograft', 'Other'] #order\n",
    "counts['graft_dashboard2'] = pd.Categorical( #set order in counts\n",
    "    counts['graft_dashboard2'],\n",
    "    categories=graft_order,\n",
    "    ordered=True\n",
    ")\n",
    "total_per_graft = counts.groupby('graft_dashboard2')['count'].transform('sum') #get sums\n",
    "counts['proportion'] = counts['count'] / total_per_graft #calculate proportions\n",
    "\n",
    "plt.figure(figsize=(10, 6))\n",
    "sns.barplot( #make grouped barplot\n",
    "    data=counts,\n",
    "    x='graft_dashboard2',\n",
    "    y='proportion',\n",
    "    hue='reinjury',\n",
    "    palette='mako'\n",
    ")\n",
    "plt.xlabel('Graft Type')\n",
    "plt.ylabel('Proportion of Reinjury Type')\n",
    "plt.title('Undergoing ACLR Surgery? Consider a Hamstring (HS) Tendon Autograft', fontsize=14, weight='bold', loc='left')  # Main title\n",
    "plt.text(0, 0.98, 'Comparing Proportions of Reinjury Types Across Different Graft Types', \n",
    "         ha='left', va='center', transform=plt.gca().transAxes, fontsize=10, color='gray')  # Subtitle\n",
    "plt.legend(title='Reinjury Type', loc='upper left', bbox_to_anchor=(0.775, 1.0))\n",
    "plt.text(-0.8, -0.13, 'Source: UVA Department of Kinesiology and School of Data Science', ha='left', fontsize=10)\n",
    "\n",
    "sns.despine(top=True, right=True, left=True) #get rid of axes\n",
    "plt.tight_layout()\n",
    "plt.show()"
   ]
  }
 ],
 "metadata": {
  "kernelspec": {
   "display_name": "Python 3",
   "language": "python",
   "name": "python3"
  },
  "language_info": {
   "codemirror_mode": {
    "name": "ipython",
    "version": 3
   },
   "file_extension": ".py",
   "mimetype": "text/x-python",
   "name": "python",
   "nbconvert_exporter": "python",
   "pygments_lexer": "ipython3",
   "version": "3.11.4"
  }
 },
 "nbformat": 4,
 "nbformat_minor": 2
}
